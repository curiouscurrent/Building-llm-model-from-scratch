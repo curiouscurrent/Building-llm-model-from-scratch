{
 "cells": [
  {
   "cell_type": "code",
   "execution_count": 2,
   "id": "d8bf5b51-16e8-4ce4-9506-d139ccd30e12",
   "metadata": {},
   "outputs": [
    {
     "name": "stdout",
     "output_type": "stream",
     "text": [
      "cpu\n"
     ]
    }
   ],
   "source": [
    "import torch\n",
    "import torch.nn as nn\n",
    "from torch.nn import functional as F\n",
    "import numpy as np\n",
    "import time\n",
    "device = 'cuda' if torch.cuda.is_available() else 'cpu'\n",
    "print(device)"
   ]
  },
  {
   "cell_type": "code",
   "execution_count": 3,
   "id": "95070f7b-f370-42d1-a122-3608d30e8e0b",
   "metadata": {},
   "outputs": [
    {
     "name": "stdout",
     "output_type": "stream",
     "text": [
      "0.02036285\n",
      "CPU times: total: 15.6 ms\n",
      "Wall time: 20.4 ms\n"
     ]
    }
   ],
   "source": [
    "%%time\n",
    "start_time = time.time()\n",
    "# matrix operations here\n",
    "zeros = torch.zeros(1, 1)\n",
    "end_time = time.time()\n",
    "\n",
    "elapsed_time = end_time - start_time\n",
    "print(f\"{elapsed_time:.8f}\")\n",
    "\n",
    "# wall time : how long it actually takes in real time, how long should we wait."
   ]
  },
  {
   "cell_type": "markdown",
   "id": "bf0a4777-c1d4-468e-ad43-95f2c3218fbf",
   "metadata": {},
   "source": [
    "## Forward pass and back propogation through the network"
   ]
  },
  {
   "cell_type": "markdown",
   "id": "033aa9f2-8282-4a56-9f80-0fe94e504f74",
   "metadata": {},
   "source": [
    "## Initialising tensors"
   ]
  },
  {
   "cell_type": "code",
   "execution_count": 5,
   "id": "ae37c330-8691-4f57-8e7f-58b2d616ebf5",
   "metadata": {},
   "outputs": [
    {
     "name": "stdout",
     "output_type": "stream",
     "text": [
      "0.40020967\n",
      "0.16988897\n"
     ]
    }
   ],
   "source": [
    "torch_rand1 = torch.rand(100, 100, 100, 100).to(device)\n",
    "torch_rand2 = torch.rand(100, 100, 100, 100).to(device)\n",
    "np_rand1 = torch.rand(100, 100, 100, 100)\n",
    "np_rand2 = torch.rand(100, 100, 100, 100)\n",
    "\n",
    "start_time = time.time()\n",
    "\n",
    "rand = (torch_rand1 @ torch_rand2)\n",
    "\n",
    "end_time = time.time()\n",
    "\n",
    "elapsed_time = end_time - start_time\n",
    "print(f\"{elapsed_time:.8f}\")  #for gpu\n",
    "\n",
    "\n",
    "start_time = time.time()\n",
    "\n",
    "rand = np.multiply(np_rand1, np_rand2)\n",
    "end_time = time.time()\n",
    "elapsed_time = end_time - start_time\n",
    "print(f\"{elapsed_time:.8f}\")  #for cpu"
   ]
  },
  {
   "cell_type": "markdown",
   "id": "94ca04fd-a1cd-4918-9d03-2e8a0f282ccc",
   "metadata": {},
   "source": [
    "## torch.multinomial - to predict what word is going to come next"
   ]
  },
  {
   "cell_type": "code",
   "execution_count": 7,
   "id": "bbc96604-7c6b-44e5-a84c-326d195e8df9",
   "metadata": {},
   "outputs": [
    {
     "name": "stdout",
     "output_type": "stream",
     "text": [
      "tensor([1, 1, 1, 1, 1, 1, 1, 1, 1, 1])\n"
     ]
    }
   ],
   "source": [
    "# Define a probability tensor\n",
    "probabilities = torch.tensor([0.1, 0.9]) # 10 % prob that 0 is going to come next, 90% prob that 1 is going to come next\n",
    "# 10% or 0.1 => 0, 90% or 0.9 => 1. each probability points to the index of the probability in the tensor\n",
    "# Draw 5 samples from the multinomial distribution\n",
    "samples = torch.multinomial(probabilities, num_samples=10, replacement=True)\n",
    "print(samples)"
   ]
  },
  {
   "cell_type": "markdown",
   "id": "9b4d3bff-a853-4ba1-aa0d-a35443d5a537",
   "metadata": {},
   "source": [
    "## torch.cat - prob distribution will be used to pick the first one, and then based on the first one we are going to predict\n",
    "## the next character, once we have predicted that we are going to concatenate the new one with the ones we have already predicted.\n",
    "## By the end we will have all of the integers predicted"
   ]
  },
  {
   "cell_type": "code",
   "execution_count": 8,
   "id": "0fcbc96e-53ec-4514-9c2d-b2599aca4fa7",
   "metadata": {},
   "outputs": [
    {
     "data": {
      "text/plain": [
       "tensor([1, 2, 3, 4, 5])"
      ]
     },
     "execution_count": 8,
     "metadata": {},
     "output_type": "execute_result"
    }
   ],
   "source": [
    "tensor = torch.tensor([1, 2, 3, 4])\n",
    "out = torch.cat((tensor, torch.tensor([5])), dim=0)\n",
    "out"
   ]
  },
  {
   "cell_type": "markdown",
   "id": "c7ca45e0-8533-40fb-8028-03c426cc91e9",
   "metadata": {},
   "source": [
    "## torch.tril - predicting based on history of knowledge -basically, we can't predict while knowing what the answer is \n"
   ]
  },
  {
   "cell_type": "code",
   "execution_count": 9,
   "id": "660eaa11-6aee-4093-a807-ec43dec9e04c",
   "metadata": {},
   "outputs": [
    {
     "data": {
      "text/plain": [
       "tensor([[1., 0., 0., 0., 0.],\n",
       "        [1., 1., 0., 0., 0.],\n",
       "        [1., 1., 1., 0., 0.],\n",
       "        [1., 1., 1., 1., 0.],\n",
       "        [1., 1., 1., 1., 1.]])"
      ]
     },
     "execution_count": 9,
     "metadata": {},
     "output_type": "execute_result"
    }
   ],
   "source": [
    "out = torch.tril(torch.ones(5, 5))\n",
    "out"
   ]
  },
  {
   "cell_type": "code",
   "execution_count": null,
   "id": "d10ad743-dff1-4211-ac25-3bb575952e94",
   "metadata": {},
   "outputs": [],
   "source": [
    "# we predicted 1 and rest of them aren't predicted yet - 1st row\n",
    "# we predicted one more and rest of them aren't predicted yet - 2nd row\n",
    "## goes on ..."
   ]
  },
  {
   "cell_type": "code",
   "execution_count": 10,
   "id": "227e72f3-6a1f-4192-a2bb-c9c0a7e09c9a",
   "metadata": {},
   "outputs": [
    {
     "data": {
      "text/plain": [
       "tensor([[1., 1., 1., 1., 1.],\n",
       "        [0., 1., 1., 1., 1.],\n",
       "        [0., 0., 1., 1., 1.],\n",
       "        [0., 0., 0., 1., 1.],\n",
       "        [0., 0., 0., 0., 1.]])"
      ]
     },
     "execution_count": 10,
     "metadata": {},
     "output_type": "execute_result"
    }
   ],
   "source": [
    "out = torch.triu(torch.ones(5, 5))\n",
    "out"
   ]
  },
  {
   "cell_type": "code",
   "execution_count": 11,
   "id": "0f608f6c-d50b-47df-9627-1a5e3646ee1c",
   "metadata": {},
   "outputs": [
    {
     "data": {
      "text/plain": [
       "tensor([[0., -inf, -inf, -inf, -inf],\n",
       "        [0., 0., -inf, -inf, -inf],\n",
       "        [0., 0., 0., -inf, -inf],\n",
       "        [0., 0., 0., 0., -inf],\n",
       "        [0., 0., 0., 0., 0.]])"
      ]
     },
     "execution_count": 11,
     "metadata": {},
     "output_type": "execute_result"
    }
   ],
   "source": [
    "# Masked fill - by exponentiating - 2.71^m\n",
    "out = torch.zeros(5, 5).masked_fill(torch.tril(torch.ones(5, 5)) == 0, float('-inf'))\n",
    "out\n",
    "# 2.71^0 = 1, 2.71^-inf = 0, .."
   ]
  },
  {
   "cell_type": "code",
   "execution_count": 12,
   "id": "93f4f4c8-9814-4a60-a3c1-4f59ed9bc58a",
   "metadata": {},
   "outputs": [
    {
     "data": {
      "text/plain": [
       "tensor([[1., 0., 0., 0., 0.],\n",
       "        [1., 1., 0., 0., 0.],\n",
       "        [1., 1., 1., 0., 0.],\n",
       "        [1., 1., 1., 1., 0.],\n",
       "        [1., 1., 1., 1., 1.]])"
      ]
     },
     "execution_count": 12,
     "metadata": {},
     "output_type": "execute_result"
    }
   ],
   "source": [
    "## verify masked fill\n",
    "torch.exp(out)"
   ]
  },
  {
   "cell_type": "markdown",
   "id": "49f1a176-3804-4bb3-aafa-6cabf488d4ac",
   "metadata": {},
   "source": [
    "## torch.stack - stacking a bunch of one-dimensional(length of integers or tokens) on top of each other - to make a 2-dimensional or\n",
    "## bunch of blocks to make a batch"
   ]
  },
  {
   "cell_type": "code",
   "execution_count": 7,
   "id": "135708b2-e10b-48e6-8338-4f923c6746ec",
   "metadata": {},
   "outputs": [
    {
     "data": {
      "text/plain": [
       "tensor([[1, 2, 3],\n",
       "        [4, 5, 6],\n",
       "        [7, 8, 9]])"
      ]
     },
     "execution_count": 7,
     "metadata": {},
     "output_type": "execute_result"
    }
   ],
   "source": [
    "tensor1 = torch.tensor([1, 2, 3])\n",
    "tensor2 = torch.tensor([4, 5, 6])\n",
    "tensor3 = torch.tensor([7, 8, 9])\n",
    "\n",
    "# Stack the tensors along a new dimension\n",
    "stacked_tensor = torch.stack([tensor1, tensor2, tensor3])\n",
    "stacked_tensor"
   ]
  },
  {
   "cell_type": "code",
   "execution_count": 6,
   "id": "9a8a6eb8-ee7f-4ed5-9394-f621cbe34dba",
   "metadata": {},
   "outputs": [
    {
     "name": "stdout",
     "output_type": "stream",
     "text": [
      "torch.Size([3, 2, 4])\n",
      "torch.Size([2, 4, 3])\n"
     ]
    }
   ],
   "source": [
    "input = torch.zeros(2, 3, 4)\n",
    "out1 = input.transpose(0, 1)\n",
    "out2 = input.transpose(-2,-1)\n",
    "print(out1.shape)\n",
    "print(out2.shape)\n",
    "# torch.permute works the same but you provide the new order of dimensions instead of the dimensions you'd like to swap."
   ]
  },
  {
   "cell_type": "markdown",
   "id": "271e46f4-8c08-4c78-aaae-0f617c34519b",
   "metadata": {},
   "source": [
    "## torch.nn - linear function - contains anything that has learnable parameters, highly used in our model\n",
    "## when we apply weight and bias under nn.module it will learn those and become better and better\n",
    "## and it will train based on how accurate those are\n",
    "## and how close certain parameters bring it to the desired output."
   ]
  },
  {
   "cell_type": "markdown",
   "id": "a38b20a6-2ee2-42a5-bf80-5403fd1a4475",
   "metadata": {},
   "source": [
    "#### make sure input layers aligns with the hidden layers\n",
    "#### and hidden layers aligns with the consecutive hidden layers \n",
    "#### and the last hidden layer alligns with the following output layer"
   ]
  },
  {
   "cell_type": "markdown",
   "id": "60787e66-e546-4fc3-aa2b-c595aeced865",
   "metadata": {},
   "source": [
    "#### lets suppose there are 2 , 4, 3, 1 neurons in 4 seperate coloumns\n",
    "#### transformations apply in this way {2,4} {4,3} (3,1}"
   ]
  },
  {
   "cell_type": "code",
   "execution_count": 9,
   "id": "cf7ecbbf-edca-4bd0-9dff-8443ff17da4e",
   "metadata": {},
   "outputs": [
    {
     "name": "stdout",
     "output_type": "stream",
     "text": [
      "tensor([ 1.9531, -3.5460, -5.2060], grad_fn=<SqueezeBackward4>)\n"
     ]
    }
   ],
   "source": [
    "import torch.nn as nn\n",
    "sample = torch.tensor([10.,10.,10.])\n",
    "linear = nn.Linear(3, 3, bias=False)\n",
    "print(linear(sample))"
   ]
  },
  {
   "cell_type": "markdown",
   "id": "5fcd02ec-ab2b-409d-9883-b1c59ef47291",
   "metadata": {},
   "source": [
    "## softmax function - first exponentiate , then add the total and then div each element by the exponentiated total\n",
    "## [1,2,3] -> 2.71^1 2.71^2 2.71^3 => (2.71+7.38+20.08)  => 30.17 so 2.71/30.17 = x, 7.34/30.17 = y, 19.9/30.17= z\n",
    "## [1,2,3] -> [x,y,z] -> [0.089,0.243,0.659]"
   ]
  },
  {
   "cell_type": "markdown",
   "id": "30b23576-5847-4528-b315-c61b0b773334",
   "metadata": {},
   "source": [
    "import torch.nn.functional as F\n",
    "\n",
    "# Create a tensor\n",
    "tensor1 = torch.tensor([1.0, 2.0, 3.0])\n",
    "\n",
    "# Apply softmax using torch.nn.functional.softmax()\n",
    "softmax_output = F.softmax(tensor1, dim=0)\n",
    "\n",
    "print(softmax_output)"
   ]
  },
  {
   "cell_type": "markdown",
   "id": "debddd1a-f46d-4016-a2dd-4862d1627cc1",
   "metadata": {},
   "source": [
    "# Embedding Vectors"
   ]
  },
  {
   "cell_type": "markdown",
   "id": "306233b3-0131-4bb6-8b0b-f48472b442cd",
   "metadata": {
    "jp-MarkdownHeadingCollapsed": true
   },
   "source": [
    "## nn.Embedding -> they will store vector of information of a character or a word\n",
    "## for ex : 'a' : character, [0.2, 0.1, 0.5, 0.3, 0.9 ] - embedding vector\n",
    "## contains vocab size -> how many unique characters are actually in our dataset"
   ]
  },
  {
   "cell_type": "markdown",
   "id": "85b1ca89-3a7c-4561-be47-49c61a306cc9",
   "metadata": {},
   "source": [
    "## nn.embedding -> is a vector or numerical representation of the sentiment of a letter"
   ]
  },
  {
   "cell_type": "code",
   "execution_count": 5,
   "id": "4686303d-6500-4209-807e-fffe1f5b6a0b",
   "metadata": {},
   "outputs": [
    {
     "name": "stdout",
     "output_type": "stream",
     "text": [
      "torch.Size([4, 6])\n",
      "tensor([[ 1.2622,  0.2729, -1.2555, -0.5327, -0.3371, -2.0049],\n",
      "        [-1.7446,  0.7308,  0.4424, -2.6829,  3.0430, -0.7249],\n",
      "        [ 0.2020, -0.0076, -0.3018,  2.0341, -1.7975,  0.4426],\n",
      "        [-2.3298,  0.8533, -0.9933,  0.6968,  1.0662,  2.4717]],\n",
      "       grad_fn=<EmbeddingBackward0>)\n"
     ]
    }
   ],
   "source": [
    "# Initialize an embedding layer\n",
    "vocab_size = 80\n",
    "embedding_dim = 6\n",
    "embedding = nn.Embedding(vocab_size, embedding_dim)\n",
    "\n",
    "# Create some input indices\n",
    "input_indices = torch.LongTensor([1, 5, 3, 2])\n",
    "\n",
    "# Apply the embedding layer\n",
    "embedded_output = embedding(input_indices)\n",
    "\n",
    "# The output will be a tensor of shape (4, 100), where 4 is the number of inputs\n",
    "# and 6 is the dimensionality of the embedding vectors\n",
    "print(embedded_output.shape)\n",
    "print(embedded_output)"
   ]
  },
  {
   "cell_type": "markdown",
   "id": "ca0e9774-230c-478f-8c2c-d79abf1d3b9b",
   "metadata": {},
   "source": [
    "# Matrix multiplication - for multiplying weights in neural networks- make sure they are floating point numbers\n",
    "### a @ b - mul 2 matrices - in pytorch"
   ]
  },
  {
   "cell_type": "code",
   "execution_count": 6,
   "id": "9224e806-742d-4691-a8da-cac1be5e21b9",
   "metadata": {},
   "outputs": [
    {
     "name": "stdout",
     "output_type": "stream",
     "text": [
      "tensor([[ 27,  30,  33],\n",
      "        [ 61,  68,  75],\n",
      "        [ 95, 106, 117]])\n"
     ]
    }
   ],
   "source": [
    "a = torch.tensor([[1,2],[3,4],[5,6]])\n",
    "b = torch.tensor([[7,8,9],[10,11,12]])\n",
    "# print(a @ b)\n",
    "print(torch.matmul(a, b))"
   ]
  },
  {
   "cell_type": "code",
   "execution_count": 7,
   "id": "6eb8cdc3-841a-45a7-abd3-9ded9bb71358",
   "metadata": {},
   "outputs": [
    {
     "name": "stdout",
     "output_type": "stream",
     "text": [
      "tensor([[0., 0., 0.],\n",
      "        [0., 0., 0.],\n",
      "        [0., 0., 0.]])\n"
     ]
    }
   ],
   "source": [
    "int_64 = torch.randint(1, (3, 2)).float()\n",
    "#type int64\n",
    "float_32 = torch.rand(2,3)\n",
    "#type float32\n",
    "# print(int_64.dtype, float_32.dtype)\n",
    "result = torch.matmul(int_64, float_32)\n",
    "print(result)"
   ]
  },
  {
   "cell_type": "code",
   "execution_count": 10,
   "id": "5bb4ecc8-0968-4499-b52f-5a6b874137ee",
   "metadata": {},
   "outputs": [
    {
     "name": "stdout",
     "output_type": "stream",
     "text": [
      "torch.Size([2, 3, 5])\n",
      "torch.Size([2, 3, 5])\n"
     ]
    }
   ],
   "source": [
    "a = torch.rand(2, 3, 5)\n",
    "print(a.shape)\n",
    "x, y, z = a.shape\n",
    "a = a.view(x,y,z) #view allows us to unpack with the dot shape\n",
    "#and then we can use a view to put them back together into a tensor\n",
    "# print(x, y, z)\n",
    "print(a.shape)\n"
   ]
  },
  {
   "cell_type": "code",
   "execution_count": null,
   "id": "6c427b14-c12a-44a5-b569-1cdbfa67da80",
   "metadata": {},
   "outputs": [],
   "source": [
    "input = torch.rand((4, 8, 10))\n",
    "B, T, C = input.shape\n",
    "output = input.view(B*T, C)\n",
    "print(output)\n",
    "# print(input)\n",
    "print(output[:, -1, :])"
   ]
  },
  {
   "cell_type": "code",
   "execution_count": null,
   "id": "c9c76d7c-2a2f-4852-ad1f-66998b0d2bd7",
   "metadata": {},
   "outputs": [],
   "source": []
  }
 ],
 "metadata": {
  "kernelspec": {
   "display_name": "LexaWeave",
   "language": "python",
   "name": "cuda"
  },
  "language_info": {
   "codemirror_mode": {
    "name": "ipython",
    "version": 3
   },
   "file_extension": ".py",
   "mimetype": "text/x-python",
   "name": "python",
   "nbconvert_exporter": "python",
   "pygments_lexer": "ipython3",
   "version": "3.11.5"
  }
 },
 "nbformat": 4,
 "nbformat_minor": 5
}
